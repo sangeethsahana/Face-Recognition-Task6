{
 "cells": [
  {
   "cell_type": "code",
   "execution_count": null,
   "metadata": {},
   "outputs": [],
   "source": [
    "\n",
    "\n",
    "import smtplib\n",
    "#import sendgrid\n",
    "import os\n",
    "#from sendgrid.helpers.mail import Mail, Email, To, Content\n",
    "SUBJECT = \"ALERT\"\n",
    "s = smtplib.SMTP('smtp.gmail.com', 587)\n",
    "\n",
    "def sendmail(TEXT,email):\n",
    "#    print(\"sorry we cant process your candidature\")\n",
    "    s = smtplib.SMTP('smtp.gmail.com', 587)\n",
    "    s.starttls()\n",
    "    s.login(\"your-mail-id\", \"your-password\")\n",
    "    message  = 'Subject: {}\\n\\n{}'.format(SUBJECT, TEXT)\n",
    "    s.sendmail(\"your-mail-id\", email, message)\n",
    "    s.quit()\n",
    "    \n",
    "sendmail(\"Hello Sangeeth Sahana ! Email successfully sent\",\"mail-id to which msg has to be sent\")\n",
    "\n",
    "import time\n",
    "\n",
    "t = time.localtime()\n",
    "time_hr = time.strftime(\"%H\", t)\n",
    "time_min = time.strftime(\"%M\", t)\n",
    "print(time_hr)\n",
    "print(time_min)\n",
    "\n",
    "import pywhatkit as kit\n",
    "kit.sendwhatmsg(\"+91xxxxxxxx\", \"Hey Sangeeth Sahana ! Whatsapp Message successfully sent !\", int(time_hr), int(time_min)+2)\n"
   ]
  },
  {
   "cell_type": "code",
   "execution_count": null,
   "metadata": {},
   "outputs": [],
   "source": []
  },
  {
   "cell_type": "code",
   "execution_count": null,
   "metadata": {},
   "outputs": [],
   "source": []
  }
 ],
 "metadata": {
  "kernelspec": {
   "display_name": "Python 3",
   "language": "python",
   "name": "python3"
  },
  "language_info": {
   "codemirror_mode": {
    "name": "ipython",
    "version": 3
   },
   "file_extension": ".py",
   "mimetype": "text/x-python",
   "name": "python",
   "nbconvert_exporter": "python",
   "pygments_lexer": "ipython3",
   "version": "3.8.5"
  }
 },
 "nbformat": 4,
 "nbformat_minor": 4
}
